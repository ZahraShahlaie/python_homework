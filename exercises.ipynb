{
  "nbformat": 4,
  "nbformat_minor": 0,
  "metadata": {
    "colab": {
      "provenance": [],
      "include_colab_link": true
    },
    "kernelspec": {
      "name": "python3",
      "display_name": "Python 3"
    },
    "language_info": {
      "name": "python"
    }
  },
  "cells": [
    {
      "cell_type": "markdown",
      "metadata": {
        "id": "view-in-github",
        "colab_type": "text"
      },
      "source": [
        "<a href=\"https://colab.research.google.com/github/ZahraShahlaie/python_homework/blob/main/exercises.ipynb\" target=\"_parent\"><img src=\"https://colab.research.google.com/assets/colab-badge.svg\" alt=\"Open In Colab\"/></a>"
      ]
    },
    {
      "cell_type": "markdown",
      "source": [
        "Homeworks link: https://github.com/farrokhkarimi/python3/blob/master/homeworks.pdf\n",
        "\n",
        "# Full Name :zahra shahlaie\n"
      ],
      "metadata": {
        "id": "2JZvgb4cpBAp"
      }
    },
    {
      "cell_type": "markdown",
      "source": [
        "## Question 1\n",
        "\n",
        "code:"
      ],
      "metadata": {
        "id": "4wZFSOwjoK03"
      }
    },
    {
      "cell_type": "code",
      "execution_count": null,
      "metadata": {
        "id": "E4EydsfpoJ3h"
      },
      "outputs": [],
      "source": []
    },
    {
      "cell_type": "markdown",
      "source": [
        "report:\n"
      ],
      "metadata": {
        "id": "0Zxrp4g2oV23"
      }
    },
    {
      "cell_type": "markdown",
      "source": [
        "---"
      ],
      "metadata": {
        "id": "Z4QXfFy9oZlJ"
      }
    },
    {
      "cell_type": "markdown",
      "source": [
        "## Question 2\n",
        "\n",
        "code:"
      ],
      "metadata": {
        "id": "vm6Rj3t2obpe"
      }
    },
    {
      "cell_type": "code",
      "source": [],
      "metadata": {
        "id": "oxOwZE20oa7K"
      },
      "execution_count": null,
      "outputs": []
    },
    {
      "cell_type": "markdown",
      "source": [
        "report:"
      ],
      "metadata": {
        "id": "72zNiLFEogCs"
      }
    },
    {
      "cell_type": "markdown",
      "source": [
        "---"
      ],
      "metadata": {
        "id": "d72h_2gcohOl"
      }
    },
    {
      "cell_type": "markdown",
      "source": [
        "## Question 3\n",
        "\n",
        "code:"
      ],
      "metadata": {
        "id": "nhc70Hf2oiGE"
      }
    },
    {
      "cell_type": "code",
      "source": [
        "weight = 59\n",
        "height = 160\n",
        "bmi = weight/(height*height)\n",
        "print(round(bmi*10000))"
      ],
      "metadata": {
        "id": "3a-4qW7jonSt",
        "colab": {
          "base_uri": "https://localhost:8080/"
        },
        "outputId": "f6faf34d-e027-4234-81c2-ceb0c218b1c4"
      },
      "execution_count": null,
      "outputs": [
        {
          "output_type": "stream",
          "name": "stdout",
          "text": [
            "23\n"
          ]
        }
      ]
    },
    {
      "cell_type": "markdown",
      "source": [
        "report:"
      ],
      "metadata": {
        "id": "MozaLzBmok9O"
      }
    },
    {
      "cell_type": "markdown",
      "source": [
        "---"
      ],
      "metadata": {
        "id": "njVMg5abopho"
      }
    },
    {
      "cell_type": "markdown",
      "source": [
        "## Question 4\n",
        "\n",
        "code:"
      ],
      "metadata": {
        "id": "uCuf0szkp0h0"
      }
    },
    {
      "cell_type": "code",
      "source": [
        "my_list= [[2], [0], [1, 3], [0, 7], [9, 11], [13, 15, 17]]\n",
        "\n",
        "#a\n",
        "my_list[5].sort(reverse=True)\n",
        "print(f\"my_list = {my_list}\")\n",
        "#b\n",
        "new_list=my_list[:4]+ [my_list[4]+my_list[5]]\n",
        "print(f\"new_list = {new_list}\")\n"
      ],
      "metadata": {
        "id": "XyC0gWWWp0h1",
        "colab": {
          "base_uri": "https://localhost:8080/"
        },
        "outputId": "6d25b414-17c9-4a24-8681-a459b8f197bf"
      },
      "execution_count": null,
      "outputs": [
        {
          "output_type": "stream",
          "name": "stdout",
          "text": [
            "my_list = [[2], [0], [1, 3], [0, 7], [9, 11], [17, 15, 13]]\n",
            "new_list = [[2], [0], [1, 3], [0, 7], [9, 11, 17, 15, 13]]\n"
          ]
        }
      ]
    },
    {
      "cell_type": "markdown",
      "source": [
        "report:"
      ],
      "metadata": {
        "id": "jU1Vhyo2p0h1"
      }
    },
    {
      "cell_type": "markdown",
      "source": [
        "---"
      ],
      "metadata": {
        "id": "kdIH1-5ep0h1"
      }
    },
    {
      "cell_type": "markdown",
      "source": [
        "## Question 5\n",
        "\n",
        "code:"
      ],
      "metadata": {
        "id": "2YLH8JdCp0_Q"
      }
    },
    {
      "cell_type": "code",
      "source": [
        "list1 = [\"a\", \"b\", [\"c\", [\"d\", \"e\", [\"f\", \"g\"], \"k\"], \"l\"], \"m\", \"n\"]\n",
        "var_1 = list1[2][1][0]\n",
        "print(var_1)\n",
        "print(list1[3:])\n"
      ],
      "metadata": {
        "id": "9dRAKYe_p0_R",
        "colab": {
          "base_uri": "https://localhost:8080/"
        },
        "outputId": "687a69f8-a67e-417d-ccfc-45bbea8c15bf"
      },
      "execution_count": null,
      "outputs": [
        {
          "output_type": "stream",
          "name": "stdout",
          "text": [
            "d\n",
            "['m', 'n']\n"
          ]
        }
      ]
    },
    {
      "cell_type": "markdown",
      "source": [
        "report:"
      ],
      "metadata": {
        "id": "nMy5Ctecp0_R"
      }
    },
    {
      "cell_type": "markdown",
      "source": [
        "---"
      ],
      "metadata": {
        "id": "wOy-cUyQp0_R"
      }
    },
    {
      "cell_type": "markdown",
      "source": [
        "## Question 6\n",
        "\n",
        "code:"
      ],
      "metadata": {
        "id": "futvTSetp1GY"
      }
    },
    {
      "cell_type": "code",
      "source": [],
      "metadata": {
        "id": "WcZ0UOEHEe6r"
      },
      "execution_count": null,
      "outputs": []
    },
    {
      "cell_type": "code",
      "source": [],
      "metadata": {
        "id": "dKlKX3RTp1GZ"
      },
      "execution_count": null,
      "outputs": []
    },
    {
      "cell_type": "markdown",
      "source": [
        "report:"
      ],
      "metadata": {
        "id": "-yDRKstUp1GZ"
      }
    },
    {
      "cell_type": "markdown",
      "source": [
        "بله همگی لسیت هستند - از [] استفاده شده  و در لیست ها وجود عضو تکراری مشکلی ندارد برای مورد سوم - در مورد دوم وجود یک لیست در لیست دیگر بلا مانع است"
      ],
      "metadata": {
        "id": "713hia6sDzSr"
      }
    },
    {
      "cell_type": "markdown",
      "source": [
        "---"
      ],
      "metadata": {
        "id": "GZllELlhp1GZ"
      }
    },
    {
      "cell_type": "markdown",
      "source": [
        "## Question 7\n",
        "\n",
        "code:"
      ],
      "metadata": {
        "id": "aGooqBslp1Mf"
      }
    },
    {
      "cell_type": "code",
      "source": [
        "my_list = [9 ,7 ,20 ,6 ,12 , 1 ,8 ,6 ,9 ,4 ,15 ,3 ,11]\n",
        "\n",
        "\n",
        "my_list.sort(reverse=True)\n",
        "max_num=my_list[:3]\n",
        "my_list.sort()\n",
        "min_num=my_list[:3]\n",
        "\n",
        "print(f\"max_num = {max_num} , min_num = {min_num} \")"
      ],
      "metadata": {
        "id": "jiMiIx8Wp1Mg",
        "colab": {
          "base_uri": "https://localhost:8080/"
        },
        "outputId": "96c76086-8ad9-4d08-e45f-ca7e7b24b021"
      },
      "execution_count": null,
      "outputs": [
        {
          "output_type": "stream",
          "name": "stdout",
          "text": [
            "max_num = [20, 15, 12] , min_num = [1, 3, 4] \n"
          ]
        }
      ]
    },
    {
      "cell_type": "markdown",
      "source": [
        "report:"
      ],
      "metadata": {
        "id": "RmMVCYDEp1Mg"
      }
    },
    {
      "cell_type": "markdown",
      "source": [
        "---"
      ],
      "metadata": {
        "id": "J8wcpA7Ap1Mg"
      }
    },
    {
      "cell_type": "markdown",
      "source": [
        "## Question 8\n",
        "\n",
        "code:"
      ],
      "metadata": {
        "id": "4SMeBnjOp1Sw"
      }
    },
    {
      "cell_type": "code",
      "source": [],
      "metadata": {
        "id": "5Yzl1iBOp1Sx"
      },
      "execution_count": null,
      "outputs": []
    },
    {
      "cell_type": "markdown",
      "source": [
        "report:"
      ],
      "metadata": {
        "id": "78N2uje2p1Sx"
      }
    },
    {
      "cell_type": "markdown",
      "source": [
        "---"
      ],
      "metadata": {
        "id": "9hQCxRR4p1Sx"
      }
    },
    {
      "cell_type": "markdown",
      "source": [
        "## Question 9\n",
        "\n",
        "code:"
      ],
      "metadata": {
        "id": "zht-E_HRp1Xs"
      }
    },
    {
      "cell_type": "code",
      "source": [
        "list1=[1, 3, 5, 7, 9, 11]\n",
        "list2=[0, 2, 4, 6, 8, 10]\n",
        "\n",
        "list_sorted = list1 + list2\n",
        "list_sorted.sort()\n",
        "print(list_sorted)"
      ],
      "metadata": {
        "id": "13UgfJOzp1Xt",
        "colab": {
          "base_uri": "https://localhost:8080/"
        },
        "outputId": "cee56e57-65fd-48d2-8890-0a16f92c94b0"
      },
      "execution_count": null,
      "outputs": [
        {
          "output_type": "stream",
          "name": "stdout",
          "text": [
            "[0, 1, 2, 3, 4, 5, 6, 7, 8, 9, 10, 11]\n"
          ]
        }
      ]
    },
    {
      "cell_type": "markdown",
      "source": [
        "report:"
      ],
      "metadata": {
        "id": "iaCzggChp1Xt"
      }
    },
    {
      "cell_type": "markdown",
      "source": [
        "---"
      ],
      "metadata": {
        "id": "LLZ69ewdp1Xt"
      }
    },
    {
      "cell_type": "markdown",
      "source": [
        "## Question 10\n",
        "\n",
        "code:"
      ],
      "metadata": {
        "id": "-dS_aef4p1b2"
      }
    },
    {
      "cell_type": "code",
      "source": [
        "ref = [0, 1, 3, 5, 0, 3, 4, 5, 0, 8, 0, 3, 6, 0, 3, 1, 1, 0]\n",
        "integer_inputed  = int(input(\"Enter an integer as input from 0 to 10  : \"))\n",
        "if integer_inputed > 11 or integer_inputed < 0 :\n",
        " print(\"the number that you entered is not in range[0,10] \")\n",
        "else :\n",
        " if integer_inputed in ref :\n",
        "  count_num =ref.count(integer_inputed)\n",
        "  print (f\"the number {integer_inputed} is repeated {count_num} times in ref list\")\n",
        " else :\n",
        "  print (f\"the number {integer_inputed} that you entered is not in ref list \")\n"
      ],
      "metadata": {
        "id": "3wS7Vd5-p1b2",
        "colab": {
          "base_uri": "https://localhost:8080/"
        },
        "outputId": "01b214cb-02d3-445c-e2ed-b29c1bd857b4"
      },
      "execution_count": null,
      "outputs": [
        {
          "output_type": "stream",
          "name": "stdout",
          "text": [
            "Enter an integer as input from 0 to 10  : 5\n",
            "the number 5 is repeated 2 times in ref list\n"
          ]
        }
      ]
    },
    {
      "cell_type": "markdown",
      "source": [
        "report:"
      ],
      "metadata": {
        "id": "2y6St-q2p1b2"
      }
    },
    {
      "cell_type": "markdown",
      "source": [
        "---"
      ],
      "metadata": {
        "id": "IMjCl9wQp1b2"
      }
    },
    {
      "cell_type": "markdown",
      "source": [
        "## Question 11\n",
        "\n",
        "code:"
      ],
      "metadata": {
        "id": "FeLc27unp1e4"
      }
    },
    {
      "cell_type": "code",
      "source": [
        "list1 = [['a', 'b'], ['b', 'c', 'd'], ['e', 'f']]\n",
        "list2 =[['p', 'q'], ['p', 's', 't'], ['u', 'v', 'w']]\n",
        "new_list =[]\n",
        "for i in range(len(list1)):\n",
        " new_list.append( list1[i]+ list2[i])\n",
        "\n",
        "print(new_list)\n"
      ],
      "metadata": {
        "id": "VP7rN1Isp1e4",
        "colab": {
          "base_uri": "https://localhost:8080/"
        },
        "outputId": "0e4e4115-f6ea-470b-d18b-d6dd756ae24d"
      },
      "execution_count": null,
      "outputs": [
        {
          "output_type": "stream",
          "name": "stdout",
          "text": [
            "[['a', 'b', 'p', 'q'], ['b', 'c', 'd', 'p', 's', 't'], ['e', 'f', 'u', 'v', 'w']]\n"
          ]
        }
      ]
    },
    {
      "cell_type": "markdown",
      "source": [
        "report:"
      ],
      "metadata": {
        "id": "L17fAoojp1e4"
      }
    },
    {
      "cell_type": "markdown",
      "source": [
        "---"
      ],
      "metadata": {
        "id": "-KTYu5bip1e4"
      }
    },
    {
      "cell_type": "markdown",
      "source": [
        "## Question 12\n",
        "\n",
        "code:"
      ],
      "metadata": {
        "id": "q50tt4qep1hx"
      }
    },
    {
      "cell_type": "code",
      "source": [
        "words = ['b', 'c', 'd', 'p', 's', 't']\n",
        "temp = words[3]\n",
        "words[3]= words[4]\n",
        "words[4]= temp\n",
        "print(words)\n"
      ],
      "metadata": {
        "id": "dHlPWDbPp1hx",
        "colab": {
          "base_uri": "https://localhost:8080/"
        },
        "outputId": "5aad5a46-1844-4ad7-a912-ec30637bfcce"
      },
      "execution_count": null,
      "outputs": [
        {
          "output_type": "stream",
          "name": "stdout",
          "text": [
            "['b', 'c', 'd', 's', 'p', 't']\n"
          ]
        }
      ]
    },
    {
      "cell_type": "markdown",
      "source": [
        "report:"
      ],
      "metadata": {
        "id": "3uxSbo4mp1hy"
      }
    },
    {
      "cell_type": "markdown",
      "source": [
        "---"
      ],
      "metadata": {
        "id": "_kVjV_Kvp1hy"
      }
    },
    {
      "cell_type": "markdown",
      "source": [
        "## Question 13\n",
        "\n",
        "code:"
      ],
      "metadata": {
        "id": "_kaUGSmxp1j0"
      }
    },
    {
      "cell_type": "code",
      "source": [
        "get_int = int(input(\"Enter an integer number as ...  : \"))\n",
        "get_str = str(input(\"please enter a string ....  \"))"
      ],
      "metadata": {
        "id": "1g8DkkUcp1j0",
        "colab": {
          "base_uri": "https://localhost:8080/"
        },
        "outputId": "519742c6-51ba-4015-e116-fd9ba5f3b04e"
      },
      "execution_count": null,
      "outputs": [
        {
          "name": "stdout",
          "output_type": "stream",
          "text": [
            "Enter an integer number as ...  : 33\n",
            "please enter a string ....  this is test\n"
          ]
        }
      ]
    },
    {
      "cell_type": "markdown",
      "source": [
        "report:"
      ],
      "metadata": {
        "id": "TcE8f90jp1j0"
      }
    },
    {
      "cell_type": "markdown",
      "source": [
        "ابتدا نوع دریافتی را مشخص میکنیم سپس input را نوشته و داخل ان متنی که میخواهیم یه کاربر نشان دهیم"
      ],
      "metadata": {
        "id": "M8GYLjbBFG67"
      }
    },
    {
      "cell_type": "markdown",
      "source": [
        "---"
      ],
      "metadata": {
        "id": "icUnqM00p1j0"
      }
    },
    {
      "cell_type": "markdown",
      "source": [
        "## Question 14\n",
        "\n",
        "code:"
      ],
      "metadata": {
        "id": "e9wQuAYXp1mP"
      }
    },
    {
      "cell_type": "code",
      "source": [
        "my_string =\"the quick brown fox jumps over the lazy dog\"\n",
        "my_new_string =my_string[:3]+\" \" + my_string[-3:]\n",
        "print(my_new_string)"
      ],
      "metadata": {
        "id": "TH9nptOwp1mP",
        "colab": {
          "base_uri": "https://localhost:8080/"
        },
        "outputId": "89a1605a-9c17-4901-cf26-fd9c82d3fe53"
      },
      "execution_count": null,
      "outputs": [
        {
          "output_type": "stream",
          "name": "stdout",
          "text": [
            "the dog\n"
          ]
        }
      ]
    },
    {
      "cell_type": "markdown",
      "source": [
        "report:"
      ],
      "metadata": {
        "id": "3Xqt5uAip1mP"
      }
    },
    {
      "cell_type": "markdown",
      "source": [
        "---"
      ],
      "metadata": {
        "id": "dqbqW1AKp1mP"
      }
    },
    {
      "cell_type": "markdown",
      "source": [
        "## Question 15\n",
        "\n",
        "code:"
      ],
      "metadata": {
        "id": "gCPG_8uLp1rk"
      }
    },
    {
      "cell_type": "code",
      "source": [
        "lengh_string = len(my_string)\n",
        "\n",
        "n  = int(input(f\"Enter an integer as input_n from 0 to {lengh_string}  : \"))\n",
        "m  = int(input(f\"Enter an integer as input_m feom 0 to {lengh_string}  : \"))\n",
        "\n",
        "\n",
        "new_string_remove_nIndex = my_string[:n] + my_string[n+1:]\n",
        "new_string_remove_mIndex = my_string[:m] + my_string[m+1:]\n",
        "\n",
        "print(f\"               my_string = {my_string}\")\n",
        "print(f\"new_string_remove_nIndex = {new_string_remove_nIndex}\")\n",
        "print(f\"new_string_remove_mIndex = {new_string_remove_mIndex}\")\n",
        "\n"
      ],
      "metadata": {
        "id": "_suvvtaLp1rk",
        "colab": {
          "base_uri": "https://localhost:8080/"
        },
        "outputId": "654d0880-6c86-41ac-ee0d-5b2d41212eb3"
      },
      "execution_count": null,
      "outputs": [
        {
          "output_type": "stream",
          "name": "stdout",
          "text": [
            "Enter an integer as input_n from 0 to 43  : 25\n",
            "Enter an integer as input_m feom 0 to 43  : 42\n",
            "               my_string = the quick brown fox jumps over the lazy dog\n",
            "new_string_remove_nIndex = the quick brown fox jumpsover the lazy dog\n",
            "new_string_remove_mIndex = the quick brown fox jumps over the lazy do\n"
          ]
        }
      ]
    },
    {
      "cell_type": "markdown",
      "source": [
        "report:"
      ],
      "metadata": {
        "id": "qWF6r9nYp1rk"
      }
    },
    {
      "cell_type": "markdown",
      "source": [
        "---"
      ],
      "metadata": {
        "id": "kVGPBF2Fp1rl"
      }
    },
    {
      "cell_type": "markdown",
      "source": [
        "## Question 16\n",
        "\n",
        "code:"
      ],
      "metadata": {
        "id": "xX0IWdd8p1ue"
      }
    },
    {
      "cell_type": "code",
      "source": [
        "the_counted =my_string.count(\"the\")\n",
        "print(f\"the word (the) repeated {the_counted} times \")"
      ],
      "metadata": {
        "id": "d0iwVYrbp1ue",
        "colab": {
          "base_uri": "https://localhost:8080/"
        },
        "outputId": "ac5ddcf3-ea86-4d6f-e190-67e6927dd6f7"
      },
      "execution_count": null,
      "outputs": [
        {
          "output_type": "stream",
          "name": "stdout",
          "text": [
            "the word (the) repeated 2 times \n"
          ]
        }
      ]
    },
    {
      "cell_type": "markdown",
      "source": [
        "report:"
      ],
      "metadata": {
        "id": "KEsxHXsmp1ue"
      }
    },
    {
      "cell_type": "markdown",
      "source": [
        "---"
      ],
      "metadata": {
        "id": "bN-4dLqGp1ue"
      }
    },
    {
      "cell_type": "markdown",
      "source": [
        "## Question 17\n",
        "\n",
        "code:"
      ],
      "metadata": {
        "id": "jB9cnmAqp1w0"
      }
    },
    {
      "cell_type": "code",
      "source": [
        "my_string = \"32.054,23\"\n",
        "my_list = list(my_string)\n",
        "temp = my_list[2]\n",
        "my_list[2] = my_list[6]\n",
        "my_list[6]=temp\n",
        "new_string = ''.join(my_list)\n",
        "\n",
        "print(f\"output : {new_string}\")"
      ],
      "metadata": {
        "id": "l3AY7yTMp1w0",
        "colab": {
          "base_uri": "https://localhost:8080/"
        },
        "outputId": "93291c68-2b81-466f-d587-4381628ffb90"
      },
      "execution_count": null,
      "outputs": [
        {
          "output_type": "stream",
          "name": "stdout",
          "text": [
            "output : 32,054.23\n"
          ]
        }
      ]
    },
    {
      "cell_type": "markdown",
      "source": [
        "report:"
      ],
      "metadata": {
        "id": "Ackdv1skp1w0"
      }
    },
    {
      "cell_type": "markdown",
      "source": [
        "---"
      ],
      "metadata": {
        "id": "Ud662raip1w1"
      }
    },
    {
      "cell_type": "markdown",
      "source": [
        "## Question 18\n",
        "\n",
        "code:"
      ],
      "metadata": {
        "id": "j7xSzBjmp1zL"
      }
    },
    {
      "cell_type": "code",
      "source": [
        "def hello(name):\n",
        "  print(f\"hello {name} !\")\n",
        "\n",
        "name_inputed = str(input(\"please enter your name \"))\n",
        "hello(name_inputed)\n"
      ],
      "metadata": {
        "id": "MttofTNyp1zM",
        "colab": {
          "base_uri": "https://localhost:8080/"
        },
        "outputId": "310b6cdc-fe83-400d-b2af-61c9b483c31d"
      },
      "execution_count": null,
      "outputs": [
        {
          "output_type": "stream",
          "name": "stdout",
          "text": [
            "please enter your name ZAHRA\n",
            "hello ZAHRA !\n"
          ]
        }
      ]
    },
    {
      "cell_type": "markdown",
      "source": [
        "report:"
      ],
      "metadata": {
        "id": "8akDQTB0p1zM"
      }
    },
    {
      "cell_type": "markdown",
      "source": [
        "---"
      ],
      "metadata": {
        "id": "wQjrqpr5p1zM"
      }
    },
    {
      "cell_type": "markdown",
      "source": [
        "## Question 19\n",
        "\n",
        "code:"
      ],
      "metadata": {
        "id": "5iD5qRqMp11h"
      }
    },
    {
      "cell_type": "code",
      "source": [
        "sentence = str(input(\"please enter your sentence i want count volwels  \"))\n",
        "\n",
        "count_vowels= sentence.count(\"a\")+sentence.count(\"e\")+sentence.count(\"i\")+sentence.count(\"o\")+sentence.count(\"u\")\n",
        "print(f\"this sentence has {count_vowels} vowels\")"
      ],
      "metadata": {
        "id": "y9jt0TxHp11h",
        "colab": {
          "base_uri": "https://localhost:8080/"
        },
        "outputId": "a0b0be14-79ac-4783-8e47-1134d0d0c163"
      },
      "execution_count": null,
      "outputs": [
        {
          "output_type": "stream",
          "name": "stdout",
          "text": [
            "please enter your sentence i want count volwels  today is friday\n",
            "this sentence has 5 vowels\n"
          ]
        }
      ]
    },
    {
      "cell_type": "markdown",
      "source": [
        "report:"
      ],
      "metadata": {
        "id": "4kLaaSsNp11h"
      }
    },
    {
      "cell_type": "markdown",
      "source": [
        "---"
      ],
      "metadata": {
        "id": "hDoyX--5p11i"
      }
    },
    {
      "cell_type": "markdown",
      "source": [
        "## Question 20\n",
        "\n",
        "code:"
      ],
      "metadata": {
        "id": "ob_r3IjHp14F"
      }
    },
    {
      "cell_type": "code",
      "source": [
        "sentence = \"the quick brown fox jumps over the lazy dog \"\n",
        "if len(sentence)>6 :\n",
        "  print(\" this sentence is to long \")"
      ],
      "metadata": {
        "id": "KBnyWxJIp14G",
        "colab": {
          "base_uri": "https://localhost:8080/"
        },
        "outputId": "4d51a8a4-1a1b-4cdd-e136-73637091f1ec"
      },
      "execution_count": null,
      "outputs": [
        {
          "output_type": "stream",
          "name": "stdout",
          "text": [
            " this sentence is to long \n"
          ]
        }
      ]
    },
    {
      "cell_type": "markdown",
      "source": [
        "report:"
      ],
      "metadata": {
        "id": "lMJg8acRp14G"
      }
    },
    {
      "cell_type": "markdown",
      "source": [
        "---"
      ],
      "metadata": {
        "id": "haa1VXEQp14G"
      }
    },
    {
      "cell_type": "markdown",
      "source": [
        "## Question 21\n",
        "\n",
        "code:"
      ],
      "metadata": {
        "id": "pG4rra1cp16c"
      }
    },
    {
      "cell_type": "code",
      "source": [
        "my_string = str(input(\"please enter a string i want guess is palindrome or not :) \"))\n",
        "my_string_reverse= my_string[::-1]\n",
        "if my_string == my_string_reverse :\n",
        "  print(f\"yes..... this string {my_string} is palindrome \")\n",
        "else :\n",
        " print(f\"ooops..... this string {my_string} is not palindrome \")\n"
      ],
      "metadata": {
        "id": "tx3Xuwyip16d",
        "colab": {
          "base_uri": "https://localhost:8080/"
        },
        "outputId": "c7df5727-d869-4282-a31e-8dbef6bdf9a7"
      },
      "execution_count": null,
      "outputs": [
        {
          "output_type": "stream",
          "name": "stdout",
          "text": [
            "please enter a string i want guess is palindrome or not :) daad\n",
            "yes..... this string daad is palindrome \n"
          ]
        }
      ]
    },
    {
      "cell_type": "markdown",
      "source": [
        "report:"
      ],
      "metadata": {
        "id": "hqA3x4hNp16d"
      }
    },
    {
      "cell_type": "markdown",
      "source": [
        "---"
      ],
      "metadata": {
        "id": "N-K4dFsgp16d"
      }
    },
    {
      "cell_type": "markdown",
      "source": [
        "## Question 22\n",
        "\n",
        "code:"
      ],
      "metadata": {
        "id": "tk9larGUp197"
      }
    },
    {
      "cell_type": "code",
      "source": [
        "grade = int(input(\"please enter ur grade : \"))\n",
        "if grade>90 :\n",
        "  print (\"A\")"
      ],
      "metadata": {
        "id": "1_q7-tygp197",
        "colab": {
          "base_uri": "https://localhost:8080/"
        },
        "outputId": "88212d98-6b80-4c1f-b058-dbff1f35576d"
      },
      "execution_count": null,
      "outputs": [
        {
          "output_type": "stream",
          "name": "stdout",
          "text": [
            "please enter ur grade : 92\n",
            "A\n"
          ]
        }
      ]
    },
    {
      "cell_type": "markdown",
      "source": [
        "report:"
      ],
      "metadata": {
        "id": "MkGDHZRFp198"
      }
    },
    {
      "cell_type": "markdown",
      "source": [
        "---"
      ],
      "metadata": {
        "id": "KLTxCJXdp198"
      }
    },
    {
      "cell_type": "markdown",
      "source": [
        "## Question 23\n",
        "\n",
        "code:"
      ],
      "metadata": {
        "id": "V3DU93ohp2Ag"
      }
    },
    {
      "cell_type": "code",
      "source": [
        "grade = int(input(\"please enter ur grade : \"))\n",
        "if grade<= 90  and grade>= 50 :\n",
        "  print (\"B\")\n",
        "elif grade< 50 :\n",
        "  print (\"c\")\n",
        "\n"
      ],
      "metadata": {
        "id": "NrOknl-ap2Ag",
        "colab": {
          "base_uri": "https://localhost:8080/"
        },
        "outputId": "84935164-d247-4727-a45c-35e899a2e441"
      },
      "execution_count": null,
      "outputs": [
        {
          "output_type": "stream",
          "name": "stdout",
          "text": [
            "please enter ur grade : 44\n",
            "c\n"
          ]
        }
      ]
    },
    {
      "cell_type": "markdown",
      "source": [
        "report:"
      ],
      "metadata": {
        "id": "QcmpjWXWp2Ag"
      }
    },
    {
      "cell_type": "markdown",
      "source": [
        "---"
      ],
      "metadata": {
        "id": "FLz8hKjEp2Ah"
      }
    },
    {
      "cell_type": "markdown",
      "source": [
        "## Question 24\n",
        "\n",
        "code:"
      ],
      "metadata": {
        "id": "bMsVikAHp2DK"
      }
    },
    {
      "cell_type": "code",
      "source": [],
      "metadata": {
        "id": "teKjDMJTp2DK"
      },
      "execution_count": null,
      "outputs": []
    },
    {
      "cell_type": "markdown",
      "source": [
        "report:"
      ],
      "metadata": {
        "id": "32Yn5cF-p2DL"
      }
    },
    {
      "cell_type": "markdown",
      "source": [
        "---"
      ],
      "metadata": {
        "id": "vGgnVknSp2DL"
      }
    },
    {
      "cell_type": "markdown",
      "source": [
        "## Question 25\n",
        "\n",
        "code:"
      ],
      "metadata": {
        "id": "1ypGa69gp2Fx"
      }
    },
    {
      "cell_type": "code",
      "source": [],
      "metadata": {
        "id": "tssUZsN4p2Fx"
      },
      "execution_count": null,
      "outputs": []
    },
    {
      "cell_type": "markdown",
      "source": [
        "report:"
      ],
      "metadata": {
        "id": "ueiySX5lp2Fy"
      }
    },
    {
      "cell_type": "markdown",
      "source": [
        "---"
      ],
      "metadata": {
        "id": "vo5pU3RKp2Fy"
      }
    },
    {
      "cell_type": "markdown",
      "source": [
        "## Question 26\n",
        "\n",
        "code:"
      ],
      "metadata": {
        "id": "6RF9SPTvp2Iy"
      }
    },
    {
      "cell_type": "code",
      "source": [],
      "metadata": {
        "id": "Pgkf19sYp2Iy"
      },
      "execution_count": null,
      "outputs": []
    },
    {
      "cell_type": "markdown",
      "source": [
        "report:"
      ],
      "metadata": {
        "id": "hMivu2yKp2Iy"
      }
    },
    {
      "cell_type": "markdown",
      "source": [
        "---"
      ],
      "metadata": {
        "id": "V7us-FNtp2Iz"
      }
    },
    {
      "cell_type": "markdown",
      "source": [
        "## Question 27\n",
        "\n",
        "code:"
      ],
      "metadata": {
        "id": "1ynyj1mRp2Lb"
      }
    },
    {
      "cell_type": "code",
      "source": [
        "year = int(input(\"please enter year :\"))\n",
        "if year % 400  == 0 or year % 4  == 0  :\n",
        "  print(f\"the year {year} is kabise\")\n",
        "elif year % 100  == 0 :\n",
        "  print(f\"the year {year} is not kabise  \")\n",
        "else :\n",
        "  print(f\"the year {year} is not kabise  \")\n"
      ],
      "metadata": {
        "id": "NMDEjUQcp2Lb",
        "colab": {
          "base_uri": "https://localhost:8080/"
        },
        "outputId": "48d1ac4c-5e45-4f6e-8e88-dddba7094341"
      },
      "execution_count": null,
      "outputs": [
        {
          "output_type": "stream",
          "name": "stdout",
          "text": [
            "please enter year :1399\n",
            "the year 1399 is not kabise  \n"
          ]
        }
      ]
    },
    {
      "cell_type": "markdown",
      "source": [
        "report:"
      ],
      "metadata": {
        "id": "vQArGpb5p2Lb"
      }
    },
    {
      "cell_type": "markdown",
      "source": [
        "---"
      ],
      "metadata": {
        "id": "au40Hw0Np2Lb"
      }
    },
    {
      "cell_type": "markdown",
      "source": [
        "## Question 28\n",
        "\n",
        "code:"
      ],
      "metadata": {
        "id": "PFTnAQBOp2OQ"
      }
    },
    {
      "cell_type": "code",
      "source": [
        "for i in range(1,6):\n",
        "  print(\"*\" *i)\n",
        "for j in range(5,0,-1):\n",
        "  print(\"*\" *j)"
      ],
      "metadata": {
        "id": "gZ0NBdXwp2OR",
        "colab": {
          "base_uri": "https://localhost:8080/"
        },
        "outputId": "13c8ac6b-0a55-413d-84ee-33c0c4dff3de"
      },
      "execution_count": null,
      "outputs": [
        {
          "output_type": "stream",
          "name": "stdout",
          "text": [
            "*\n",
            "**\n",
            "***\n",
            "****\n",
            "*****\n",
            "*****\n",
            "****\n",
            "***\n",
            "**\n",
            "*\n"
          ]
        }
      ]
    },
    {
      "cell_type": "markdown",
      "source": [
        "report:"
      ],
      "metadata": {
        "id": "N0uEnUP4p2OR"
      }
    },
    {
      "cell_type": "markdown",
      "source": [
        "---"
      ],
      "metadata": {
        "id": "IXWNaLUSp2OR"
      }
    },
    {
      "cell_type": "markdown",
      "source": [
        "## Question 29\n",
        "\n",
        "code:"
      ],
      "metadata": {
        "id": "BijUhp2xp2Rv"
      }
    },
    {
      "cell_type": "code",
      "source": [],
      "metadata": {
        "id": "Gtn5eKEUp2Rv"
      },
      "execution_count": null,
      "outputs": []
    },
    {
      "cell_type": "markdown",
      "source": [
        "report:"
      ],
      "metadata": {
        "id": "LMuA3kAwp2Rv"
      }
    },
    {
      "cell_type": "markdown",
      "source": [
        "---"
      ],
      "metadata": {
        "id": "XOI9voPsp2Rw"
      }
    },
    {
      "cell_type": "markdown",
      "source": [
        "## Question 30\n",
        "\n",
        "code:"
      ],
      "metadata": {
        "id": "IM3xCJ0cp2U4"
      }
    },
    {
      "cell_type": "code",
      "source": [],
      "metadata": {
        "id": "2N9EUU-tp2U4"
      },
      "execution_count": null,
      "outputs": []
    },
    {
      "cell_type": "markdown",
      "source": [
        "report:"
      ],
      "metadata": {
        "id": "ktXX3AM7p2U5"
      }
    },
    {
      "cell_type": "markdown",
      "source": [
        "---"
      ],
      "metadata": {
        "id": "PzHD-jjop2U5"
      }
    },
    {
      "cell_type": "markdown",
      "source": [
        "## Question 31\n",
        "\n",
        "code:"
      ],
      "metadata": {
        "id": "ONqPs2zzp2Xu"
      }
    },
    {
      "cell_type": "code",
      "source": [
        "\n",
        "for i in range(1, 11):\n",
        "    for j in range(1, i + 1):\n",
        "        print(i * j, end=\" \")\n",
        "    print()\n"
      ],
      "metadata": {
        "id": "jsGPbz5op2Xu",
        "colab": {
          "base_uri": "https://localhost:8080/"
        },
        "outputId": "b89de75f-e024-4b73-8679-37513442e9f9"
      },
      "execution_count": null,
      "outputs": [
        {
          "output_type": "stream",
          "name": "stdout",
          "text": [
            "1 \n",
            "2 4 \n",
            "3 6 9 \n",
            "4 8 12 16 \n",
            "5 10 15 20 25 \n",
            "6 12 18 24 30 36 \n",
            "7 14 21 28 35 42 49 \n",
            "8 16 24 32 40 48 56 64 \n",
            "9 18 27 36 45 54 63 72 81 \n",
            "10 20 30 40 50 60 70 80 90 100 \n"
          ]
        }
      ]
    },
    {
      "cell_type": "markdown",
      "source": [
        "report:"
      ],
      "metadata": {
        "id": "OpzRJdIop2Xu"
      }
    },
    {
      "cell_type": "markdown",
      "source": [
        "---"
      ],
      "metadata": {
        "id": "G6ayZa2cp2Xv"
      }
    },
    {
      "cell_type": "markdown",
      "source": [
        "## Question 32\n",
        "\n",
        "code:"
      ],
      "metadata": {
        "id": "U_2IMSNkp2aw"
      }
    },
    {
      "cell_type": "code",
      "source": [],
      "metadata": {
        "id": "-Pl7rEnxp2ax"
      },
      "execution_count": null,
      "outputs": []
    },
    {
      "cell_type": "markdown",
      "source": [
        "report:"
      ],
      "metadata": {
        "id": "A_v5WppHp2ax"
      }
    },
    {
      "cell_type": "markdown",
      "source": [
        "---"
      ],
      "metadata": {
        "id": "eJ0Tbcjqp2ax"
      }
    },
    {
      "cell_type": "markdown",
      "source": [
        "## Question 33\n",
        "\n",
        "code:"
      ],
      "metadata": {
        "id": "d_RQv7mlp2d3"
      }
    },
    {
      "cell_type": "code",
      "source": [
        "x=0\n",
        "for i in range(1,16):\n",
        " x += (-1)**(i+1) * (4/((i*2)*(i*2+1)*(i*2+2)))\n",
        "print(3+x)"
      ],
      "metadata": {
        "id": "PKXQRMoUp2d4",
        "colab": {
          "base_uri": "https://localhost:8080/"
        },
        "outputId": "b69e36fd-4b22-4776-f3cc-4e13e1176753"
      },
      "execution_count": null,
      "outputs": [
        {
          "output_type": "stream",
          "name": "stdout",
          "text": [
            "3.141653394197426\n"
          ]
        }
      ]
    },
    {
      "cell_type": "markdown",
      "source": [
        "report:"
      ],
      "metadata": {
        "id": "mI1w0Jorp2d4"
      }
    },
    {
      "cell_type": "markdown",
      "source": [
        "---"
      ],
      "metadata": {
        "id": "2HsKEdGyp2d4"
      }
    },
    {
      "cell_type": "markdown",
      "source": [
        "## Question 34\n",
        "\n",
        "code:"
      ],
      "metadata": {
        "id": "y7m0mXiep2g2"
      }
    },
    {
      "cell_type": "code",
      "source": [],
      "metadata": {
        "id": "Yh1K57tkp2g3"
      },
      "execution_count": null,
      "outputs": []
    },
    {
      "cell_type": "markdown",
      "source": [
        "report:"
      ],
      "metadata": {
        "id": "mL76GlgOp2g3"
      }
    },
    {
      "cell_type": "markdown",
      "source": [
        "---"
      ],
      "metadata": {
        "id": "9sGv2XC5p2g3"
      }
    },
    {
      "cell_type": "markdown",
      "source": [
        "## Question 35\n",
        "\n",
        "code:"
      ],
      "metadata": {
        "id": "MX7XNQ9_q9TD"
      }
    },
    {
      "cell_type": "code",
      "source": [],
      "metadata": {
        "id": "GttJ2S7Xq9TD"
      },
      "execution_count": null,
      "outputs": []
    },
    {
      "cell_type": "markdown",
      "source": [
        "report:"
      ],
      "metadata": {
        "id": "6EJpIHESq9TD"
      }
    },
    {
      "cell_type": "markdown",
      "source": [
        "---"
      ],
      "metadata": {
        "id": "QRSsq0EIq9TE"
      }
    },
    {
      "cell_type": "markdown",
      "source": [
        "## Question 36\n",
        "\n",
        "code:"
      ],
      "metadata": {
        "id": "IxCovCS4q_MV"
      }
    },
    {
      "cell_type": "code",
      "source": [],
      "metadata": {
        "id": "djaurUSYq_MV"
      },
      "execution_count": null,
      "outputs": []
    },
    {
      "cell_type": "markdown",
      "source": [
        "report:"
      ],
      "metadata": {
        "id": "YhdO2xYiq_MW"
      }
    },
    {
      "cell_type": "markdown",
      "source": [
        "---"
      ],
      "metadata": {
        "id": "FO5KFbJ9q_MW"
      }
    },
    {
      "cell_type": "markdown",
      "source": [
        "## Question 37\n",
        "\n",
        "code:"
      ],
      "metadata": {
        "id": "ZClDUnQ9q_UV"
      }
    },
    {
      "cell_type": "code",
      "source": [],
      "metadata": {
        "id": "gaGmNGZxq_UW"
      },
      "execution_count": null,
      "outputs": []
    },
    {
      "cell_type": "markdown",
      "source": [
        "report:"
      ],
      "metadata": {
        "id": "s3DiMC0Yq_UW"
      }
    },
    {
      "cell_type": "markdown",
      "source": [
        "---"
      ],
      "metadata": {
        "id": "-dZp7akGq_UW"
      }
    },
    {
      "cell_type": "markdown",
      "source": [
        "## Question 38\n",
        "\n",
        "code:"
      ],
      "metadata": {
        "id": "m2FfT1ibq_d5"
      }
    },
    {
      "cell_type": "code",
      "source": [],
      "metadata": {
        "id": "EgN5a1Mgq_d6"
      },
      "execution_count": null,
      "outputs": []
    },
    {
      "cell_type": "markdown",
      "source": [
        "report:"
      ],
      "metadata": {
        "id": "9uSsIpjaq_d6"
      }
    },
    {
      "cell_type": "markdown",
      "source": [
        "---"
      ],
      "metadata": {
        "id": "-6WWjSSTq_d6"
      }
    },
    {
      "cell_type": "markdown",
      "source": [
        "## Question 39\n",
        "\n",
        "code:"
      ],
      "metadata": {
        "id": "Cn8RrUVlq_m4"
      }
    },
    {
      "cell_type": "code",
      "source": [],
      "metadata": {
        "id": "1y-HJ0khq_m4"
      },
      "execution_count": null,
      "outputs": []
    },
    {
      "cell_type": "markdown",
      "source": [
        "report:"
      ],
      "metadata": {
        "id": "D2qz9cMuq_m4"
      }
    },
    {
      "cell_type": "markdown",
      "source": [
        "---"
      ],
      "metadata": {
        "id": "yf1Zbj2Nq_m4"
      }
    },
    {
      "cell_type": "markdown",
      "source": [
        "## Question 40\n",
        "\n",
        "code:"
      ],
      "metadata": {
        "id": "MX5snffKq_wS"
      }
    },
    {
      "cell_type": "code",
      "source": [],
      "metadata": {
        "id": "oqrhN-Ycq_wT"
      },
      "execution_count": null,
      "outputs": []
    },
    {
      "cell_type": "markdown",
      "source": [
        "report:"
      ],
      "metadata": {
        "id": "bqxmSNDWq_wT"
      }
    },
    {
      "cell_type": "markdown",
      "source": [
        "---"
      ],
      "metadata": {
        "id": "BJTqrp-rq_wT"
      }
    },
    {
      "cell_type": "markdown",
      "source": [
        "## Question 41\n",
        "\n",
        "code:"
      ],
      "metadata": {
        "id": "ppCTwAfqq_4W"
      }
    },
    {
      "cell_type": "code",
      "source": [],
      "metadata": {
        "id": "JqBZWD_yq_4X"
      },
      "execution_count": null,
      "outputs": []
    },
    {
      "cell_type": "markdown",
      "source": [
        "report:"
      ],
      "metadata": {
        "id": "wgwWTYg9q_4X"
      }
    },
    {
      "cell_type": "markdown",
      "source": [
        "---"
      ],
      "metadata": {
        "id": "RddWQNkyq_4X"
      }
    },
    {
      "cell_type": "markdown",
      "source": [
        "## Question 42\n",
        "\n",
        "code:"
      ],
      "metadata": {
        "id": "EfBc2FPaq_-c"
      }
    },
    {
      "cell_type": "code",
      "source": [],
      "metadata": {
        "id": "j1KEBgesq_-c"
      },
      "execution_count": null,
      "outputs": []
    },
    {
      "cell_type": "markdown",
      "source": [
        "report:"
      ],
      "metadata": {
        "id": "HrF8fw7Jq_-c"
      }
    },
    {
      "cell_type": "markdown",
      "source": [
        "---"
      ],
      "metadata": {
        "id": "J7KLPrLLq_-d"
      }
    },
    {
      "cell_type": "markdown",
      "source": [
        "## Question 43\n",
        "\n",
        "code:"
      ],
      "metadata": {
        "id": "tpXiZZSirADc"
      }
    },
    {
      "cell_type": "code",
      "source": [],
      "metadata": {
        "id": "a8XiuuMRrADc"
      },
      "execution_count": null,
      "outputs": []
    },
    {
      "cell_type": "markdown",
      "source": [
        "report:"
      ],
      "metadata": {
        "id": "rJp4ChOWrADc"
      }
    },
    {
      "cell_type": "markdown",
      "source": [
        "---"
      ],
      "metadata": {
        "id": "4ezl_rH9rADc"
      }
    },
    {
      "cell_type": "markdown",
      "source": [
        "## Question 44\n",
        "\n",
        "code:"
      ],
      "metadata": {
        "id": "D-n6ku7yrAIp"
      }
    },
    {
      "cell_type": "code",
      "source": [],
      "metadata": {
        "id": "5SQ_zSifrAIp"
      },
      "execution_count": null,
      "outputs": []
    },
    {
      "cell_type": "markdown",
      "source": [
        "report:"
      ],
      "metadata": {
        "id": "aFtdcyzfrAIp"
      }
    },
    {
      "cell_type": "markdown",
      "source": [
        "---"
      ],
      "metadata": {
        "id": "O8QuFGesrAIq"
      }
    },
    {
      "cell_type": "markdown",
      "source": [
        "## Question 45\n",
        "\n",
        "code:"
      ],
      "metadata": {
        "id": "oaxWdmttrAOD"
      }
    },
    {
      "cell_type": "code",
      "source": [],
      "metadata": {
        "id": "VSTutILXrAOE"
      },
      "execution_count": null,
      "outputs": []
    },
    {
      "cell_type": "markdown",
      "source": [
        "report:"
      ],
      "metadata": {
        "id": "yhGlH0H-rAOE"
      }
    },
    {
      "cell_type": "markdown",
      "source": [
        "---"
      ],
      "metadata": {
        "id": "g7jzyYmMrAOE"
      }
    },
    {
      "cell_type": "markdown",
      "source": [
        "## Question 46\n",
        "\n",
        "code:"
      ],
      "metadata": {
        "id": "MGNWcRCGrATJ"
      }
    },
    {
      "cell_type": "code",
      "source": [],
      "metadata": {
        "id": "UTKw22RCrATK"
      },
      "execution_count": null,
      "outputs": []
    },
    {
      "cell_type": "markdown",
      "source": [
        "report:"
      ],
      "metadata": {
        "id": "gFGyzwS1rATK"
      }
    },
    {
      "cell_type": "markdown",
      "source": [
        "---"
      ],
      "metadata": {
        "id": "1aHx4woOrATK"
      }
    },
    {
      "cell_type": "markdown",
      "source": [
        "## Question 47\n",
        "\n",
        "code:"
      ],
      "metadata": {
        "id": "UNqLY9ubrAZA"
      }
    },
    {
      "cell_type": "code",
      "source": [],
      "metadata": {
        "id": "gVsyM7CarAZA"
      },
      "execution_count": null,
      "outputs": []
    },
    {
      "cell_type": "markdown",
      "source": [
        "report:"
      ],
      "metadata": {
        "id": "fch7Q66PrAZA"
      }
    },
    {
      "cell_type": "markdown",
      "source": [
        "---"
      ],
      "metadata": {
        "id": "0n7R2NqPrAZB"
      }
    },
    {
      "cell_type": "markdown",
      "source": [
        "## Question 48\n",
        "\n",
        "code:"
      ],
      "metadata": {
        "id": "bIDRo-NCrAfu"
      }
    },
    {
      "cell_type": "code",
      "source": [],
      "metadata": {
        "id": "A2Quy3IxrAfu"
      },
      "execution_count": null,
      "outputs": []
    },
    {
      "cell_type": "markdown",
      "source": [
        "report:"
      ],
      "metadata": {
        "id": "cyxZd3EZrAfv"
      }
    },
    {
      "cell_type": "markdown",
      "source": [
        "---"
      ],
      "metadata": {
        "id": "8lAI_5f-rAfv"
      }
    },
    {
      "cell_type": "markdown",
      "source": [
        "## Question 49\n",
        "\n",
        "code:"
      ],
      "metadata": {
        "id": "Nrp3JbqKrAln"
      }
    },
    {
      "cell_type": "code",
      "source": [
        "dict_Score = {\n",
        "    \"1\":{\"A\",\"E\",\"I\",\"L\",\"N\",\"O\",\"R\",\"S\",\"T\",\"U\"},\n",
        "    \"2\":{\"D\",\"G\"},\n",
        "    \"3\":{\"B\",\"C\",\"M\",\"P\"},\n",
        "    \"4\":{\"F\",\"H\",\"V\",\"W\",\"Y\"},\n",
        "    \"5\":\"K\",\n",
        "    \"8\":{\"J\",\"X\"},\n",
        "    \"10\":{\"Q\",\"Z\"}\n",
        "    }\n",
        "\n",
        "\n",
        "my_string = \"Scrabble\"\n",
        "Score = 0\n",
        "for i in range(len(my_string)):\n",
        " value_to_find = my_string[i]\n",
        " for key, value in dict_Score.items():\n",
        "     if value_to_find.upper() in value:\n",
        "       Score += int(key)\n",
        "       break\n",
        "\n",
        "\n",
        "print(\"the Score is \",Score)\n"
      ],
      "metadata": {
        "id": "hZ9rtuxvrAln",
        "colab": {
          "base_uri": "https://localhost:8080/"
        },
        "outputId": "e79c3b02-4f53-46e2-ad91-4a21fbea7378"
      },
      "execution_count": null,
      "outputs": [
        {
          "output_type": "stream",
          "name": "stdout",
          "text": [
            "the Score is  14\n"
          ]
        }
      ]
    },
    {
      "cell_type": "markdown",
      "source": [
        "report:"
      ],
      "metadata": {
        "id": "BNch2j0hrAln"
      }
    },
    {
      "cell_type": "markdown",
      "source": [
        "---"
      ],
      "metadata": {
        "id": "o2wE7_12rAlo"
      }
    },
    {
      "cell_type": "markdown",
      "source": [
        "## Question 50\n",
        "\n",
        "code:"
      ],
      "metadata": {
        "id": "ZRXiPLO4rArR"
      }
    },
    {
      "cell_type": "code",
      "source": [],
      "metadata": {
        "id": "yQGK_hZ8rArR"
      },
      "execution_count": null,
      "outputs": []
    },
    {
      "cell_type": "markdown",
      "source": [
        "report:"
      ],
      "metadata": {
        "id": "Iq-ab7vgrArS"
      }
    },
    {
      "cell_type": "markdown",
      "source": [
        "---"
      ],
      "metadata": {
        "id": "oBCsoPyLrArS"
      }
    },
    {
      "cell_type": "markdown",
      "source": [
        "## Question 51\n",
        "\n",
        "code:"
      ],
      "metadata": {
        "id": "glZqU9-irAv1"
      }
    },
    {
      "cell_type": "code",
      "source": [],
      "metadata": {
        "id": "necyUdu3rAv2"
      },
      "execution_count": null,
      "outputs": []
    },
    {
      "cell_type": "markdown",
      "source": [
        "report:"
      ],
      "metadata": {
        "id": "TcDg_09srAv2"
      }
    },
    {
      "cell_type": "markdown",
      "source": [
        "---"
      ],
      "metadata": {
        "id": "iawYJWQfrAv2"
      }
    },
    {
      "cell_type": "markdown",
      "source": [
        "## Question 52\n",
        "\n",
        "code:"
      ],
      "metadata": {
        "id": "LCCAqG36rA0Z"
      }
    },
    {
      "cell_type": "code",
      "source": [
        "list1 = [\"apple\", \"banana\", \"orange\"]\n",
        "list2 = [20, 50, 40]\n",
        "my_dict = dict(zip(list1, list2))\n",
        "\n",
        "print(my_dict)\n"
      ],
      "metadata": {
        "id": "5vKDnGCtrA0Z",
        "colab": {
          "base_uri": "https://localhost:8080/"
        },
        "outputId": "e9a7a723-b679-4815-dc2d-c31dc5fc7c4f"
      },
      "execution_count": null,
      "outputs": [
        {
          "output_type": "stream",
          "name": "stdout",
          "text": [
            "{'apple': 20, 'banana': 50, 'orange': 40}\n"
          ]
        }
      ]
    },
    {
      "cell_type": "markdown",
      "source": [
        "report:"
      ],
      "metadata": {
        "id": "KLbcspx0rA0Z"
      }
    },
    {
      "cell_type": "markdown",
      "source": [
        "---"
      ],
      "metadata": {
        "id": "faQ09-2RrA0a"
      }
    },
    {
      "cell_type": "markdown",
      "source": [
        "## Question 53\n",
        "\n",
        "code:"
      ],
      "metadata": {
        "id": "1V0JAW1YrA5N"
      }
    },
    {
      "cell_type": "code",
      "source": [
        "my_dict = {\"data1\" : 100, \"data2\" : -54, \"data3\" : 247}\n",
        "\n",
        "sum_keys=sum(my_dict.values())\n",
        "\n",
        "result = 1\n",
        "\n",
        "for value in my_dict.values():\n",
        "    result *= value\n",
        "\n",
        "print(f\"multiplication = {result}\")\n",
        "print(f\"Result of Sum = {sum_keys}\")\n"
      ],
      "metadata": {
        "id": "Qfg_H1vhrA5O",
        "colab": {
          "base_uri": "https://localhost:8080/"
        },
        "outputId": "a680fa3c-cbda-467c-a3b4-54bce02fe20f"
      },
      "execution_count": null,
      "outputs": [
        {
          "output_type": "stream",
          "name": "stdout",
          "text": [
            "multiplication = -1333800\n",
            "Result of Sum = 293\n"
          ]
        }
      ]
    },
    {
      "cell_type": "markdown",
      "source": [
        "report:"
      ],
      "metadata": {
        "id": "CxiQT_rIrA5O"
      }
    },
    {
      "cell_type": "markdown",
      "source": [
        "---"
      ],
      "metadata": {
        "id": "ceMwyl9orA5O"
      }
    },
    {
      "cell_type": "markdown",
      "source": [
        "## Question 54\n",
        "\n",
        "code:"
      ],
      "metadata": {
        "id": "RqwICZ4grA9J"
      }
    },
    {
      "cell_type": "code",
      "source": [],
      "metadata": {
        "id": "zMx-RVMSrA9K"
      },
      "execution_count": null,
      "outputs": []
    },
    {
      "cell_type": "markdown",
      "source": [
        "report:"
      ],
      "metadata": {
        "id": "Eb-lHbderA9K"
      }
    },
    {
      "cell_type": "markdown",
      "source": [
        "---"
      ],
      "metadata": {
        "id": "cDCcg3kmrA9K"
      }
    },
    {
      "cell_type": "markdown",
      "source": [
        "## Question 55\n",
        "\n",
        "code:"
      ],
      "metadata": {
        "id": "0IpAQzynrBBe"
      }
    },
    {
      "cell_type": "code",
      "source": [],
      "metadata": {
        "id": "PK5CjDXArBBf"
      },
      "execution_count": null,
      "outputs": []
    },
    {
      "cell_type": "markdown",
      "source": [
        "report:"
      ],
      "metadata": {
        "id": "t-twcE4drBBf"
      }
    },
    {
      "cell_type": "markdown",
      "source": [
        "---"
      ],
      "metadata": {
        "id": "zZ7WDW1LrBBf"
      }
    },
    {
      "cell_type": "markdown",
      "source": [
        "## Question 56\n",
        "\n",
        "code:"
      ],
      "metadata": {
        "id": "Ut6p2ycgrBFx"
      }
    },
    {
      "cell_type": "code",
      "source": [
        "list1 = [\"apple\", \"banana\", \"orange\"]\n",
        "list2 = [20, 50, 40]\n",
        "my_dict = dict(zip(list1, list2))\n",
        "\n",
        "print(my_dict)\n"
      ],
      "metadata": {
        "id": "OUtuo5DKrBFy",
        "colab": {
          "base_uri": "https://localhost:8080/"
        },
        "outputId": "52d3cc57-af94-4f36-82ac-ed91f79baceb"
      },
      "execution_count": null,
      "outputs": [
        {
          "output_type": "stream",
          "name": "stdout",
          "text": [
            "{'apple': 20, 'banana': 50, 'orange': 40}\n"
          ]
        }
      ]
    },
    {
      "cell_type": "markdown",
      "source": [
        "report:"
      ],
      "metadata": {
        "id": "CSlECEzrrBFy"
      }
    },
    {
      "cell_type": "markdown",
      "source": [
        "---"
      ],
      "metadata": {
        "id": "VCb2IPqarBFy"
      }
    },
    {
      "cell_type": "markdown",
      "source": [
        "## Question 57\n",
        "\n",
        "code:"
      ],
      "metadata": {
        "id": "CNZu91i1rBG8"
      }
    },
    {
      "cell_type": "code",
      "source": [],
      "metadata": {
        "id": "seJdH--irBG8"
      },
      "execution_count": null,
      "outputs": []
    },
    {
      "cell_type": "markdown",
      "source": [
        "report:"
      ],
      "metadata": {
        "id": "gv3dZl3lrBG9"
      }
    },
    {
      "cell_type": "markdown",
      "source": [
        "---"
      ],
      "metadata": {
        "id": "rtEeRXPOrBG9"
      }
    },
    {
      "cell_type": "markdown",
      "source": [
        "## Question 58\n",
        "\n",
        "code:"
      ],
      "metadata": {
        "id": "9syfquwJriHo"
      }
    },
    {
      "cell_type": "code",
      "source": [],
      "metadata": {
        "id": "wQmWZcyOriHp"
      },
      "execution_count": null,
      "outputs": []
    },
    {
      "cell_type": "markdown",
      "source": [
        "report:"
      ],
      "metadata": {
        "id": "-t-pj_eAriHp"
      }
    },
    {
      "cell_type": "markdown",
      "source": [
        "---"
      ],
      "metadata": {
        "id": "ayraOCa7riHp"
      }
    },
    {
      "cell_type": "markdown",
      "source": [
        "## Question 59\n",
        "\n",
        "code:"
      ],
      "metadata": {
        "id": "D3JJM22JriRe"
      }
    },
    {
      "cell_type": "code",
      "source": [
        "class Rectangle:\n",
        "    def __init__(self, width, height):\n",
        "        self.width = width\n",
        "        self.height = height\n",
        "\n",
        "    def calculate_area(self):\n",
        "        return self.width * self.height\n",
        "\n",
        "    def calculate_perimeter(self):\n",
        "        return 2 * (self.width + self.height)\n",
        "\n",
        "rectangle = Rectangle(5, 10)\n",
        "\n",
        "area = rectangle.calculate_area()\n",
        "perimeter = rectangle.calculate_perimeter()\n",
        "\n",
        "print(\"calculate_perimeter :\", perimeter)\n",
        "print(\" calculate_area: \", area)\n"
      ],
      "metadata": {
        "id": "cBrkj4l4riRf",
        "colab": {
          "base_uri": "https://localhost:8080/"
        },
        "outputId": "fc66d368-3cba-426e-b902-b5f42a5310ca"
      },
      "execution_count": null,
      "outputs": [
        {
          "output_type": "stream",
          "name": "stdout",
          "text": [
            "calculate_perimeter : 30\n",
            " calculate_area:  50\n"
          ]
        }
      ]
    },
    {
      "cell_type": "markdown",
      "source": [
        "report:"
      ],
      "metadata": {
        "id": "1mKUwzGOriRf"
      }
    },
    {
      "cell_type": "markdown",
      "source": [
        "---"
      ],
      "metadata": {
        "id": "GpBtKrRqriRf"
      }
    },
    {
      "cell_type": "markdown",
      "source": [
        "## Question 60\n",
        "\n",
        "code:"
      ],
      "metadata": {
        "id": "Su24NjcyrirV"
      }
    },
    {
      "cell_type": "code",
      "source": [],
      "metadata": {
        "id": "8smKmPxtrirV"
      },
      "execution_count": null,
      "outputs": []
    },
    {
      "cell_type": "markdown",
      "source": [
        "report:"
      ],
      "metadata": {
        "id": "cmBVVdqQrirW"
      }
    },
    {
      "cell_type": "markdown",
      "source": [
        "---"
      ],
      "metadata": {
        "id": "PaM1_XM2rirW"
      }
    },
    {
      "cell_type": "markdown",
      "source": [
        "## Question 61\n",
        "\n",
        "code:"
      ],
      "metadata": {
        "id": "p3QWtEft2RMF"
      }
    },
    {
      "cell_type": "code",
      "source": [],
      "metadata": {
        "id": "EgR5PqI12RMS"
      },
      "execution_count": null,
      "outputs": []
    },
    {
      "cell_type": "markdown",
      "source": [
        "report:"
      ],
      "metadata": {
        "id": "-cCtnhQ02RMS"
      }
    },
    {
      "cell_type": "markdown",
      "source": [
        "---"
      ],
      "metadata": {
        "id": "idx5vc1N2RMS"
      }
    },
    {
      "cell_type": "markdown",
      "source": [
        "## Question 62\n",
        "\n",
        "code:"
      ],
      "metadata": {
        "id": "oNmwqZIt2RUj"
      }
    },
    {
      "cell_type": "code",
      "source": [],
      "metadata": {
        "id": "v2my4hcw2RUj"
      },
      "execution_count": null,
      "outputs": []
    },
    {
      "cell_type": "markdown",
      "source": [
        "report:"
      ],
      "metadata": {
        "id": "pN5GMihb2RUk"
      }
    },
    {
      "cell_type": "markdown",
      "source": [
        "---"
      ],
      "metadata": {
        "id": "sO_b4rQY2RUk"
      }
    },
    {
      "cell_type": "markdown",
      "source": [
        "## Question 63\n",
        "\n",
        "code:"
      ],
      "metadata": {
        "id": "dg8YER7l2Rkf"
      }
    },
    {
      "cell_type": "code",
      "source": [],
      "metadata": {
        "id": "zzhawVl82Rkf"
      },
      "execution_count": null,
      "outputs": []
    },
    {
      "cell_type": "markdown",
      "source": [
        "report:"
      ],
      "metadata": {
        "id": "t8nLkmt72Rkg"
      }
    },
    {
      "cell_type": "markdown",
      "source": [
        "---"
      ],
      "metadata": {
        "id": "3b5icEUM2Rkg"
      }
    }
  ]
}